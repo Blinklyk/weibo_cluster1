{
 "cells": [
  {
   "cell_type": "code",
   "execution_count": 1,
   "metadata": {},
   "outputs": [
    {
     "name": "stderr",
     "output_type": "stream",
     "text": [
      "Building prefix dict from the default dictionary ...\n",
      "Loading model from cache C:\\Users\\李大帅\\AppData\\Local\\Temp\\jieba.cache\n",
      "Loading model cost 0.723 seconds.\n",
      "Prefix dict has been built successfully.\n"
     ]
    },
    {
     "name": "stdout",
     "output_type": "stream",
     "text": [
      "0                                                                                                                                                                \\n                                         【 海南 # 三亚 100 吨 冬季 瓜菜 驰援 武汉 # 】 1 日 ， 海南 冬季 瓜菜 驰援 武汉 活动 仪式 在 三亚 启动 。 此批 供应 武汉 冬季 蔬菜 共 100 吨 ， 主要 有 豇豆 、 青瓜 、 苦瓜 、 葫芦 瓜 、 茄子 、 辣椒 等 武汉市 民 认可度 较 高且 消费量 较大 的 瓜菜 ， 另外 还有 9 吨 福返 “ 树上 熟 ” 芒果 。 这是 海南 无偿 捐送 武汉 的 首批 爱心 瓜菜 和 水果 。 据悉 ， 约 27 个 小时 后 ， 这批 新鲜 瓜菜 将 运抵 湖北省 ， 交接 给 武汉市 商务局 。 （ 黄晓慧   沙晓峰 ）   收起 全文 d \\n\n",
      "1                                                                                                                                                                     \\n                                         【 海南 # 三亚 100 吨 冬季 瓜菜 驰援 武汉 # 】 1 日 ， 海南 冬季 瓜菜 驰援 武汉 活动 仪式 在 三亚 启动 。 此批 供应 武汉 冬季 蔬菜 共 100 吨 ， 主要 有 豇豆 、 青瓜 、 苦瓜 、 葫芦 瓜 、 茄子 、 辣椒 等 武汉市 民 认可度 较 高且 消费量 较大 的 瓜菜 ， 另外 还有 9 吨 福返 “ 树上 熟 ” 芒果 。 这是 海南 无偿 捐送 武汉 的 首批 爱心 瓜菜 和 水果 。 据悉 ， 约 27 个 小时 后 ， 这批 新鲜 瓜菜 将 运抵 湖北省 ， 交接 给 武汉市 商务局 。 （ 人民日报 ）   收起 全文 d \\n\n",
      "2                                                                                                                                                                                                                          \\n                                         【 # 武汉 仁爱医院 法人代表 是 老赖 # ， 院长 ： 我们 是 莆系 但 不坏 】 近日 ， 武汉 仁爱医院 获 捐赠 物资 遭到 质疑 。 该院 院长 熊怡祥称 ， 老百姓 对 “ 莆田 系 ” 有 偏见 ， 仁爱医院 很 规范 。 天眼 查 显示 ， 该院 曾 与 林心如 贾乃亮 李小璐 苗圃 等 诸多名 明星 有 纠纷 ， 法人代表 被 限制 高 消费 ， 还 多次 被 工商 处罚 。 L 一手 video 的 秒 拍 视频   ​ ​ ​   收起 全文 d \\n\n",
      "3    \\n                                         【 出发 ！ # 海南 首批 109 吨 蔬菜 瓜果 驰援 武汉 # 】 今天 ， 海南 驰援 武汉 的 11 车 瓜果 蔬菜 从 三亚 发出 。 这批 供应 武汉 冬季 蔬菜 共 100 吨 ， 主要 有 豇豆 、 青瓜 、 苦瓜 、 葫芦 瓜 、 茄子 、 辣椒 等 武汉市 民 认可度 较 高且 消费量 较大 的 瓜菜 ， 另外 还有 9 吨 “ 树上 熟 ” 芒果 。 这是 海南 无偿 捐送 武汉 的 首批 爱心 瓜菜 和 水果 。 预计 约 27 个 小时 后 ， 这批 新鲜 瓜菜 将 运抵 湖北省 ， 交接 给 武汉市 相关 部门 。 2 月 1 日至 7 日 ， 海南省 将 组织 四批 共约 500 吨 瓜菜 捐 送给 湖北省 ， 除 供应 湖北省 本地 群众 外 ， 还 将 重点 保障 全国 各地 支援 湖北 防疫 工作 的 医疗 人员 和 部队 官兵 。 （ 总台 央视 记者   毛鑫   杨涛   魏安   张伟克 ） # 三亚 100 吨 冬季 瓜菜 驰援 武汉 #   收...\n",
      "4                                                                                                                                                                         \\n                                         【 海南 三亚 100 吨 冬季 瓜菜 驰援 武汉 】 1 日 ， 海南 冬季 瓜菜 驰援 武汉 活动 仪式 在 三亚 启动 。 此批 供应 武汉 冬季 蔬菜 共 100 吨 ， 主要 有 豇豆 、 青瓜 、 苦瓜 、 葫芦 瓜 、 茄子 、 辣椒 等 武汉市 民 认可度 较 高且 消费量 较大 的 瓜菜 ， 另外 还有 9 吨 福返 “ 树上 熟 ” 芒果 。 这是 海南 无偿 捐送 武汉 的 首批 爱心 瓜菜 和 水果 。 据悉 ， 约 27 个 小时 后 ， 这批 新鲜 瓜菜 将 运抵 湖北省 ， 交接 给 武汉市 商务局 ！ （ 人民日报 ）   收起 全文 d \\n\n",
      "Name: content_cutted, dtype: object\n"
     ]
    }
   ],
   "source": [
    "import jieba\n",
    "import pandas as pd\n",
    "\n",
    "df = pd.read_csv('data/消费content.csv', encoding='utf-8')  # 打开文件\n",
    "\n",
    "\n",
    "# print(df.head())  # 默认读取文件的头5行\n",
    "# print(df.shape)   # 查看数据的维度\n",
    "\n",
    "# 使用jieba分词对文件进行分词\n",
    "def chinese_word_cut(text):\n",
    "    return \" \".join(jieba.cut(text))\n",
    "# 设置pd的显示长度\n",
    "pd.set_option('max_colwidth', 500)\n",
    "\n",
    "df[\"content_cutted\"] = df.content.apply(chinese_word_cut)\n",
    "print(df.content_cutted.head()) # 查看文件是否已被正确分词"
   ]
  },
  {
   "cell_type": "code",
   "execution_count": null,
   "metadata": {},
   "outputs": [],
   "source": [
    "from sklearn.feature_extraction.text import TfidfVectorizer, CountVectorizer\n",
    "\n",
    "'''\n",
    "    文本向量化：将文章中的关键词转换为一个个特征，然后统计关键词个数\n",
    "'''\n",
    "n_features = 1000  # 只提取1000个最重要的关键词\n",
    "tf_vectorizer = CountVectorizer(strip_accents='unicode',\n",
    "                                max_features=n_features,\n",
    "                                stop_words='english',\n",
    "                                max_df=0.5,\n",
    "                                min_df=10)\n",
    "tf = tf_vectorizer.fit_transform(df.content_cutted)\n",
    "\n",
    "from sklearn.decomposition import LatentDirichletAllocation\n",
    "\n",
    "n_topics = 5  # 设定主题个数\n",
    "lda = LatentDirichletAllocation(max_iter=50, learning_method='online', learning_offset=50.,\n",
    "                                random_state=0)\n",
    "result_topic = lda.fit(tf)\n",
    "print(result_topic)"
   ]
  },
  {
   "cell_type": "code",
   "execution_count": null,
   "metadata": {},
   "outputs": [],
   "source": [
    "# 显示每个主题下的前若干关键词\n",
    "def print_top_words(model, feature_names, n_top_words):\n",
    "    for topic_idx, topic in enumerate(model.components_):\n",
    "        print(\"Topic #%d:\" % topic_idx)\n",
    "        print(\" \".join([feature_names[i] for i in topic.argsort()[:-n_top_words - 1:-1]]))\n",
    "        print()\n",
    "\n",
    "\n",
    "n_top_words = 20\n",
    "tf_features_names = tf_vectorizer.get_feature_names()\n",
    "print_top_words(lda, tf_features_names, n_top_words)\n",
    "\n",
    "import pyLDAvis.sklearn\n",
    "\n",
    "# 主题可视化\n",
    "vis = pyLDAvis.sklearn.prepare(lda, tf, tf_vectorizer)\n",
    "pyLDAvis.show(vis)"
   ]
  },
  {
   "cell_type": "code",
   "execution_count": null,
   "metadata": {},
   "outputs": [],
   "source": []
  }
 ],
 "metadata": {
  "kernelspec": {
   "display_name": "Python [conda env:statistic]",
   "language": "python",
   "name": "conda-env-statistic-py"
  },
  "language_info": {
   "codemirror_mode": {
    "name": "ipython",
    "version": 3
   },
   "file_extension": ".py",
   "mimetype": "text/x-python",
   "name": "python",
   "nbconvert_exporter": "python",
   "pygments_lexer": "ipython3",
   "version": "3.8.0"
  }
 },
 "nbformat": 4,
 "nbformat_minor": 2
}
